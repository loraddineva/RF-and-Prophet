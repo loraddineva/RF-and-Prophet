{
 "cells": [
  {
   "cell_type": "code",
   "execution_count": 10,
   "id": "suburban-concentration",
   "metadata": {},
   "outputs": [],
   "source": [
    "from pandas import read_csv\n",
    "from matplotlib import pyplot\n",
    "import matplotlib.pyplot as plt\n",
    "from sklearn.model_selection import train_test_split\n",
    "from sklearn.metrics import r2_score, mean_squared_error\n",
    "import numpy as np\n",
    "import pandas as pd\n",
    "import tensorflow as tf\n",
    "from tensorflow import keras\n",
    "from tensorflow.keras import layers\n",
    "from sklearn.ensemble import RandomForestRegressor"
   ]
  },
  {
   "cell_type": "markdown",
   "id": "afraid-lambda",
   "metadata": {},
   "source": [
    "# Stringency Index Training predictio nwith RF"
   ]
  },
  {
   "cell_type": "markdown",
   "id": "flying-savage",
   "metadata": {},
   "source": [
    "### 1.Data processing"
   ]
  },
  {
   "cell_type": "code",
   "execution_count": 11,
   "id": "external-kansas",
   "metadata": {},
   "outputs": [],
   "source": [
    "df = pd.read_csv('stringency_index.csv')"
   ]
  },
  {
   "cell_type": "code",
   "execution_count": 12,
   "id": "republican-pontiac",
   "metadata": {},
   "outputs": [],
   "source": [
    "df = df.drop(columns = 'Unnamed: 0')"
   ]
  },
  {
   "cell_type": "code",
   "execution_count": 13,
   "id": "associate-crime",
   "metadata": {},
   "outputs": [],
   "source": [
    "df = df.dropna().reset_index().drop(columns='index')"
   ]
  },
  {
   "cell_type": "markdown",
   "id": "absent-revelation",
   "metadata": {},
   "source": [
    "Defining features and target"
   ]
  },
  {
   "cell_type": "code",
   "execution_count": 14,
   "id": "naughty-balance",
   "metadata": {},
   "outputs": [],
   "source": [
    "features = ['total_cases', 'total_cases_per_million', 'total_deaths', 'total_deaths_per_million', 'icu_patients',\n",
    "            'icu_patients_per_million', 'hosp_patients', 'hosp_patients_per_million', 'reproduction_rate',\n",
    "            'total_vaccinations_per_hundred', 'total_vaccinations']\n",
    "target = ['stringency_index']"
   ]
  },
  {
   "cell_type": "markdown",
   "id": "pressing-celebrity",
   "metadata": {},
   "source": [
    "Splitting training and test sets"
   ]
  },
  {
   "cell_type": "code",
   "execution_count": 15,
   "id": "sensitive-symposium",
   "metadata": {},
   "outputs": [],
   "source": [
    "X = df[features].values\n",
    "y = df[target].values\n",
    "X_train, X_validation, Y_train, Y_validation = train_test_split(\n",
    "    X,\n",
    "    y,\n",
    "    test_size=0.20,\n",
    "    random_state=1,\n",
    "    shuffle=True\n",
    ")"
   ]
  },
  {
   "cell_type": "markdown",
   "id": "instrumental-delight",
   "metadata": {},
   "source": [
    "### 2.TPOT for model selection\n",
    "Not running the script as it takes long time to select model."
   ]
  },
  {
   "cell_type": "code",
   "execution_count": 23,
   "id": "southern-gather",
   "metadata": {},
   "outputs": [],
   "source": [
    "# from tpot import TPOTRegressor"
   ]
  },
  {
   "cell_type": "code",
   "execution_count": 24,
   "id": "random-diversity",
   "metadata": {},
   "outputs": [],
   "source": [
    "# GENERATIONS = 5\n",
    "# POP_SIZE = 50\n",
    "# CV = 5\n",
    "# tpot = TPOTRegressor(\n",
    "#     generations=GENERATIONS,\n",
    "#     population_size=POP_SIZE,\n",
    "#     random_state=20,\n",
    "#     n_jobs=-1,\n",
    "#     cv=CV,\n",
    "#     verbosity=2,\n",
    "# )\n",
    "\n",
    "# tpot.fit(X_train, Y_train)"
   ]
  },
  {
   "cell_type": "markdown",
   "id": "caroline-guard",
   "metadata": {},
   "source": [
    "Generation 1 - Current best internal CV score: -4.610328605969496\n",
    "\n",
    "Generation 2 - Current best internal CV score: -4.48553841737179\n",
    "\n",
    "Generation 3 - Current best internal CV score: -4.48553841737179\n",
    "\n",
    "Generation 4 - Current best internal CV score: -3.994255696079829\n",
    "\n",
    "Generation 5 - Current best internal CV score: -3.811087182879129\n",
    "\n",
    "Best pipeline: RandomForestRegressor(input_matrix, bootstrap=False, max_features=0.6000000000000001, min_samples_leaf=2, min_samples_split=4, n_estimators=100)\n",
    "TPOTRegressor(generations=5, n_jobs=-1, population_size=50, random_state=20,\n",
    "              verbosity=2)"
   ]
  },
  {
   "cell_type": "code",
   "execution_count": 25,
   "id": "arranged-income",
   "metadata": {},
   "outputs": [],
   "source": [
    "#preds = tpot.predict(X_validation)"
   ]
  },
  {
   "cell_type": "code",
   "execution_count": 26,
   "id": "cardiac-equity",
   "metadata": {},
   "outputs": [],
   "source": [
    "#print(r2_score(Y_validation, preds))"
   ]
  },
  {
   "cell_type": "markdown",
   "id": "hydraulic-continuity",
   "metadata": {},
   "source": [
    "Results in  $R^2$ of 0.9885767040926469"
   ]
  },
  {
   "cell_type": "code",
   "execution_count": 27,
   "id": "digital-phoenix",
   "metadata": {},
   "outputs": [],
   "source": [
    "#tpot.export('RandomForestRegressor.py')"
   ]
  },
  {
   "cell_type": "markdown",
   "id": "elect-williams",
   "metadata": {},
   "source": [
    "Implementing TPOT suggestion"
   ]
  },
  {
   "cell_type": "code",
   "execution_count": 16,
   "id": "monthly-genesis",
   "metadata": {},
   "outputs": [],
   "source": [
    "rf = RandomForestRegressor(bootstrap=False, max_features=0.6000000000000001, min_samples_leaf=2, min_samples_split=4, n_estimators=100)"
   ]
  },
  {
   "cell_type": "code",
   "execution_count": 17,
   "id": "shared-spirituality",
   "metadata": {},
   "outputs": [
    {
     "name": "stderr",
     "output_type": "stream",
     "text": [
      "C:\\Users\\Lora\\AppData\\Local\\Temp\\ipykernel_3808\\1297647196.py:1: DataConversionWarning: A column-vector y was passed when a 1d array was expected. Please change the shape of y to (n_samples,), for example using ravel().\n",
      "  rf.fit(X_train, Y_train)\n"
     ]
    },
    {
     "data": {
      "text/plain": [
       "RandomForestRegressor(bootstrap=False, max_features=0.6000000000000001,\n",
       "                      min_samples_leaf=2, min_samples_split=4)"
      ]
     },
     "execution_count": 17,
     "metadata": {},
     "output_type": "execute_result"
    }
   ],
   "source": [
    "rf.fit(X_train, Y_train)"
   ]
  },
  {
   "cell_type": "code",
   "execution_count": 18,
   "id": "confidential-million",
   "metadata": {},
   "outputs": [],
   "source": [
    "results = rf.predict(X_validation)"
   ]
  },
  {
   "cell_type": "code",
   "execution_count": 19,
   "id": "present-acrylic",
   "metadata": {},
   "outputs": [
    {
     "data": {
      "text/plain": [
       "2.7717233715008365"
      ]
     },
     "execution_count": 19,
     "metadata": {},
     "output_type": "execute_result"
    }
   ],
   "source": [
    "mean_squared_error(results, Y_validation)"
   ]
  },
  {
   "cell_type": "code",
   "execution_count": 20,
   "id": "english-decrease",
   "metadata": {},
   "outputs": [
    {
     "data": {
      "text/plain": [
       "0.9887848209425217"
      ]
     },
     "execution_count": 20,
     "metadata": {},
     "output_type": "execute_result"
    }
   ],
   "source": [
    "r2_score(results, Y_validation)"
   ]
  },
  {
   "cell_type": "code",
   "execution_count": 21,
   "id": "classified-birmingham",
   "metadata": {},
   "outputs": [
    {
     "data": {
      "text/plain": [
       "[<matplotlib.lines.Line2D at 0x1fab474fd60>]"
      ]
     },
     "execution_count": 21,
     "metadata": {},
     "output_type": "execute_result"
    },
    {
     "data": {
      "image/png": "[encoded data removed]",
      "text/plain": [
       "<Figure size 432x288 with 1 Axes>"
      ]
     },
     "metadata": {
      "needs_background": "light"
     },
     "output_type": "display_data"
    }
   ],
   "source": [
    "plt.plot(results, Y_validation, '.')\n",
    "plt.plot(range(100), range(100), color='red')"
   ]
  },
  {
   "cell_type": "markdown",
   "id": "animal-apparel",
   "metadata": {
    "tags": []
   },
   "source": [
    "# Forecasting Future Cases with Prophet"
   ]
  },
  {
   "cell_type": "code",
   "execution_count": 22,
   "id": "focal-tobacco",
   "metadata": {},
   "outputs": [],
   "source": [
    "df = pd.read_csv('total_cases.csv').drop(columns = 'Unnamed: 0').dropna().reset_index().drop(columns='index')"
   ]
  },
  {
   "cell_type": "code",
   "execution_count": 23,
   "id": "cross-approval",
   "metadata": {},
   "outputs": [
    {
     "data": {
      "text/plain": [
       "China                   697\n",
       "Taiwan                  697\n",
       "World                   697\n",
       "Japan                   697\n",
       "Upper middle income     697\n",
       "                       ... \n",
       "Micronesia (country)    332\n",
       "Kiribati                215\n",
       "Cook Islands            212\n",
       "Palau                   119\n",
       "Tonga                    51\n",
       "Name: location, Length: 228, dtype: int64"
      ]
     },
     "execution_count": 23,
     "metadata": {},
     "output_type": "execute_result"
    }
   ],
   "source": [
    "df['location'].value_counts()"
   ]
  },
  {
   "cell_type": "markdown",
   "id": "recorded-stevens",
   "metadata": {},
   "source": [
    "Using fbprophet for timeseries forcaasting"
   ]
  },
  {
   "cell_type": "code",
   "execution_count": 37,
   "id": "pregnant-lying",
   "metadata": {},
   "outputs": [
    {
     "name": "stdout",
     "output_type": "stream",
     "text": [
      "Setup complete\n"
     ]
    }
   ],
   "source": [
    "from prophet import Prophet\n",
    "from prophet.plot import plot_plotly, plot_components_plotly\n",
    "print('Setup complete')"
   ]
  },
  {
   "cell_type": "markdown",
   "id": "governmental-beast",
   "metadata": {},
   "source": [
    "Using USA as an example"
   ]
  },
  {
   "cell_type": "code",
   "execution_count": 39,
   "id": "military-alcohol",
   "metadata": {},
   "outputs": [],
   "source": [
    "usa = df[df['location'] =='United States'][['date', 'total_cases']]\n",
    "usa.columns = ['ds', 'y']"
   ]
  },
  {
   "cell_type": "code",
   "execution_count": 40,
   "id": "maritime-louisiana",
   "metadata": {},
   "outputs": [
    {
     "name": "stderr",
     "output_type": "stream",
     "text": [
      "INFO:prophet:Disabling yearly seasonality. Run prophet with yearly_seasonality=True to override this.\n",
      "INFO:prophet:Disabling daily seasonality. Run prophet with daily_seasonality=True to override this.\n",
      "F:\\Installs\\Anaconda\\lib\\site-packages\\prophet\\forecaster.py:896: FutureWarning: The frame.append method is deprecated and will be removed from pandas in a future version. Use pandas.concat instead.\n",
      "  components = components.append(new_comp)\n",
      "F:\\Installs\\Anaconda\\lib\\site-packages\\prophet\\forecaster.py:896: FutureWarning: The frame.append method is deprecated and will be removed from pandas in a future version. Use pandas.concat instead.\n",
      "  components = components.append(new_comp)\n",
      "F:\\Installs\\Anaconda\\lib\\site-packages\\prophet\\forecaster.py:896: FutureWarning: The frame.append method is deprecated and will be removed from pandas in a future version. Use pandas.concat instead.\n",
      "  components = components.append(new_comp)\n"
     ]
    }
   ],
   "source": [
    "m = Prophet()\n",
    "m.fit(usa)\n",
    "future = m.make_future_dataframe(periods=90)\n",
    "forecast = m.predict(future)"
   ]
  },
  {
   "cell_type": "code",
   "execution_count": 28,
   "id": "novel-grammar",
   "metadata": {},
   "outputs": [
    {
     "data": {
      "image/png": "[encoded data removed]",
      "text/plain": [
       "<Figure size 720x432 with 1 Axes>"
      ]
     },
     "metadata": {},
     "output_type": "display_data"
    }
   ],
   "source": [
    "fig1 = m.plot(forecast)"
   ]
  },
  {
   "cell_type": "markdown",
   "id": "aging-factor",
   "metadata": {},
   "source": [
    "Creating a function so that we can use for every country we would like."
   ]
  },
  {
   "cell_type": "code",
   "execution_count": 30,
   "id": "welsh-maker",
   "metadata": {},
   "outputs": [],
   "source": [
    "def predict_cases_per_country(country):\n",
    "    country_df = df[df['location'] == country][['date', 'total_cases']]\n",
    "    country_df.columns = ['ds', 'y']\n",
    "    m = Prophet()\n",
    "    m.fit(country_df)\n",
    "    future = m.make_future_dataframe(periods=90)\n",
    "    forecast = m.predict(future)\n",
    "    fig1 = m.plot(forecast)\n",
    "    fig1.show()\n",
    "    "
   ]
  },
  {
   "cell_type": "code",
   "execution_count": 31,
   "id": "developing-wells",
   "metadata": {},
   "outputs": [
    {
     "name": "stderr",
     "output_type": "stream",
     "text": [
      "INFO:prophet:Disabling yearly seasonality. Run prophet with yearly_seasonality=True to override this.\n",
      "INFO:prophet:Disabling daily seasonality. Run prophet with daily_seasonality=True to override this.\n",
      "F:\\Installs\\Anaconda\\lib\\site-packages\\prophet\\forecaster.py:896: FutureWarning: The frame.append method is deprecated and will be removed from pandas in a future version. Use pandas.concat instead.\n",
      "  components = components.append(new_comp)\n",
      "F:\\Installs\\Anaconda\\lib\\site-packages\\prophet\\forecaster.py:896: FutureWarning: The frame.append method is deprecated and will be removed from pandas in a future version. Use pandas.concat instead.\n",
      "  components = components.append(new_comp)\n",
      "F:\\Installs\\Anaconda\\lib\\site-packages\\prophet\\forecaster.py:896: FutureWarning: The frame.append method is deprecated and will be removed from pandas in a future version. Use pandas.concat instead.\n",
      "  components = components.append(new_comp)\n",
      "C:\\Users\\Lora\\AppData\\Local\\Temp\\ipykernel_3808\\266548307.py:9: UserWarning: Matplotlib is currently using module://matplotlib_inline.backend_inline, which is a non-GUI backend, so cannot show the figure.\n",
      "  fig1.show()\n"
     ]
    },
    {
     "data": {
      "image/png": "[encoded data removed]",
      "text/plain": [
       "<Figure size 720x432 with 1 Axes>"
      ]
     },
     "metadata": {},
     "output_type": "display_data"
    }
   ],
   "source": [
    "predict_cases_per_country('Bulgaria')"
   ]
  }
 ],
 "metadata": {
  "kernelspec": {
   "display_name": "Python 3 (ipykernel)",
   "language": "python",
   "name": "python3"
  },
  "language_info": {
   "codemirror_mode": {
    "name": "ipython",
    "version": 3
   },
   "file_extension": ".py",
   "mimetype": "text/x-python",
   "name": "python",
   "nbconvert_exporter": "python",
   "pygments_lexer": "ipython3",
   "version": "3.8.8"
  }
 },
 "nbformat": 4,
 "nbformat_minor": 5
}
